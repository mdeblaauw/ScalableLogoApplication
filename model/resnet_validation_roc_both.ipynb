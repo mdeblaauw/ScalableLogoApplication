{
 "cells": [
  {
   "cell_type": "markdown",
   "metadata": {},
   "source": [
    "# Package settings"
   ]
  },
  {
   "cell_type": "code",
   "execution_count": 1,
   "metadata": {
    "collapsed": true
   },
   "outputs": [],
   "source": [
    "import torch\n",
    "from torch.utils.data import DataLoader\n",
    "from torch import nn\n",
    "import torch.nn.functional as F\n",
    "from torch.optim import Adam\n",
    "\n",
    "import numpy as np"
   ]
  },
  {
   "cell_type": "code",
   "execution_count": 2,
   "metadata": {
    "collapsed": true
   },
   "outputs": [],
   "source": [
    "from few_shot.core import NShotTaskSampler\n",
    "from few_shot.datasets import LogoNet\n",
    "\n",
    "from few_shot.protonet import *\n",
    "from few_shot.core import *\n",
    "from few_shot.models import ResNet18"
   ]
  },
  {
   "cell_type": "code",
   "execution_count": 3,
   "metadata": {
    "collapsed": true
   },
   "outputs": [],
   "source": [
    "import os"
   ]
  },
  {
   "cell_type": "code",
   "execution_count": 4,
   "metadata": {
    "collapsed": true
   },
   "outputs": [],
   "source": [
    "USE_CUDA = torch.cuda.is_available()\n",
    "device = torch.device(\"cuda\" if USE_CUDA else \"cpu\")"
   ]
  },
  {
   "cell_type": "markdown",
   "metadata": {},
   "source": [
    "# Parameter settings"
   ]
  },
  {
   "cell_type": "code",
   "execution_count": 5,
   "metadata": {
    "collapsed": true
   },
   "outputs": [],
   "source": [
    "n_test = 5\n",
    "\n",
    "k_test = 70\n",
    "k_test2 = 35\n",
    "\n",
    "q_test = 5\n",
    "\n",
    "evaluation_episodes = 1\n",
    "episodes_per_epoch = 1\n",
    "\n",
    "dataset_class = LogoNet\n",
    "\n",
    "covariance_embedding_dim = 256\n",
    "embedding_dim = 256\n",
    "distance = 'gaussian'\n",
    "offset=1.0"
   ]
  },
  {
   "cell_type": "markdown",
   "metadata": {},
   "source": [
    "# Create dataloaders"
   ]
  },
  {
   "cell_type": "code",
   "execution_count": 6,
   "metadata": {},
   "outputs": [
    {
     "name": "stdout",
     "output_type": "stream",
     "text": [
      "Indexing evaluation...\n"
     ]
    },
    {
     "name": "stderr",
     "output_type": "stream",
     "text": [
      "5219it [00:00, 196151.12it/s]\n"
     ]
    }
   ],
   "source": [
    "evaluation = dataset_class('evaluation')\n",
    "evaluation_taskloader = DataLoader(\n",
    "    evaluation,\n",
    "    batch_sampler=NShotTaskSampler(evaluation, evaluation_episodes, n_test, k_test, q_test),\n",
    "    num_workers=4\n",
    ")"
   ]
  },
  {
   "cell_type": "code",
   "execution_count": 7,
   "metadata": {
    "collapsed": true
   },
   "outputs": [],
   "source": [
    "def create_nshot_task_label(k, q):\n",
    "    \"\"\"Creates an n-shot task label.\n",
    "    Label has the structure:\n",
    "        [0]*q + [1]*q + ... + [k-1]*q\n",
    "    # Arguments\n",
    "        k: Number of classes in the n-shot classification task\n",
    "        q: Number of query samples for each class in the n-shot classification task\n",
    "    # Returns\n",
    "        y: Label vector for n-shot task of shape [q * k, ]\n",
    "    \"\"\"\n",
    "    y = torch.arange(0, k, 1 / q).long()\n",
    "    return y"
   ]
  },
  {
   "cell_type": "code",
   "execution_count": 8,
   "metadata": {
    "collapsed": true
   },
   "outputs": [],
   "source": [
    "def prepare_nshot_task(batch, k, q):\n",
    "    x, y = batch\n",
    "    x = x.double()\n",
    "    # Create dummy 0-(num_classes - 1) label\n",
    "    y = create_nshot_task_label(k, q)\n",
    "    return x, y"
   ]
  },
  {
   "cell_type": "markdown",
   "metadata": {},
   "source": [
    "## Load model"
   ]
  },
  {
   "cell_type": "markdown",
   "metadata": {},
   "source": [
    "- gaussian proto k=35 trained network"
   ]
  },
  {
   "cell_type": "markdown",
   "metadata": {},
   "source": [
    "### Proto model"
   ]
  },
  {
   "cell_type": "code",
   "execution_count": 9,
   "metadata": {
    "collapsed": true
   },
   "outputs": [],
   "source": [
    "path = '../../trained_models/mahanalobis_val/'\n",
    "models = os.listdir(path)"
   ]
  },
  {
   "cell_type": "code",
   "execution_count": 10,
   "metadata": {},
   "outputs": [
    {
     "data": {
      "text/plain": [
       "['mahalanobis_val_large_k35.ckpt', 'mahanalobis_val.ckpt']"
      ]
     },
     "execution_count": 10,
     "metadata": {},
     "output_type": "execute_result"
    }
   ],
   "source": [
    "models"
   ]
  },
  {
   "cell_type": "code",
   "execution_count": 11,
   "metadata": {},
   "outputs": [
    {
     "data": {
      "text/plain": [
       "ResNet(\n",
       "  (trunk): Sequential(\n",
       "    (0): SimpleBlock(\n",
       "      (C1): Conv2d(3, 64, kernel_size=(3, 3), stride=(1, 1), padding=(1, 1), bias=False)\n",
       "      (BN1): BatchNorm2d(64, eps=1e-05, momentum=0.1, affine=True, track_running_stats=True)\n",
       "      (C2): Conv2d(64, 64, kernel_size=(3, 3), stride=(1, 1), padding=(1, 1), bias=False)\n",
       "      (BN2): BatchNorm2d(64, eps=1e-05, momentum=0.1, affine=True, track_running_stats=True)\n",
       "      (relu1): ReLU(inplace)\n",
       "      (relu2): ReLU(inplace)\n",
       "      (shortcut): Conv2d(3, 64, kernel_size=(1, 1), stride=(1, 1), bias=False)\n",
       "      (BNshortcut): BatchNorm2d(64, eps=1e-05, momentum=0.1, affine=True, track_running_stats=True)\n",
       "    )\n",
       "    (1): SimpleBlock(\n",
       "      (C1): Conv2d(64, 64, kernel_size=(3, 3), stride=(1, 1), padding=(1, 1), bias=False)\n",
       "      (BN1): BatchNorm2d(64, eps=1e-05, momentum=0.1, affine=True, track_running_stats=True)\n",
       "      (C2): Conv2d(64, 64, kernel_size=(3, 3), stride=(1, 1), padding=(1, 1), bias=False)\n",
       "      (BN2): BatchNorm2d(64, eps=1e-05, momentum=0.1, affine=True, track_running_stats=True)\n",
       "      (relu1): ReLU(inplace)\n",
       "      (relu2): ReLU(inplace)\n",
       "    )\n",
       "    (2): SimpleBlock(\n",
       "      (C1): Conv2d(64, 128, kernel_size=(3, 3), stride=(2, 2), padding=(1, 1), bias=False)\n",
       "      (BN1): BatchNorm2d(128, eps=1e-05, momentum=0.1, affine=True, track_running_stats=True)\n",
       "      (C2): Conv2d(128, 128, kernel_size=(3, 3), stride=(1, 1), padding=(1, 1), bias=False)\n",
       "      (BN2): BatchNorm2d(128, eps=1e-05, momentum=0.1, affine=True, track_running_stats=True)\n",
       "      (relu1): ReLU(inplace)\n",
       "      (relu2): ReLU(inplace)\n",
       "      (shortcut): Conv2d(64, 128, kernel_size=(1, 1), stride=(2, 2), bias=False)\n",
       "      (BNshortcut): BatchNorm2d(128, eps=1e-05, momentum=0.1, affine=True, track_running_stats=True)\n",
       "    )\n",
       "    (3): SimpleBlock(\n",
       "      (C1): Conv2d(128, 128, kernel_size=(3, 3), stride=(1, 1), padding=(1, 1), bias=False)\n",
       "      (BN1): BatchNorm2d(128, eps=1e-05, momentum=0.1, affine=True, track_running_stats=True)\n",
       "      (C2): Conv2d(128, 128, kernel_size=(3, 3), stride=(1, 1), padding=(1, 1), bias=False)\n",
       "      (BN2): BatchNorm2d(128, eps=1e-05, momentum=0.1, affine=True, track_running_stats=True)\n",
       "      (relu1): ReLU(inplace)\n",
       "      (relu2): ReLU(inplace)\n",
       "    )\n",
       "    (4): SimpleBlock(\n",
       "      (C1): Conv2d(128, 256, kernel_size=(3, 3), stride=(2, 2), padding=(1, 1), bias=False)\n",
       "      (BN1): BatchNorm2d(256, eps=1e-05, momentum=0.1, affine=True, track_running_stats=True)\n",
       "      (C2): Conv2d(256, 256, kernel_size=(3, 3), stride=(1, 1), padding=(1, 1), bias=False)\n",
       "      (BN2): BatchNorm2d(256, eps=1e-05, momentum=0.1, affine=True, track_running_stats=True)\n",
       "      (relu1): ReLU(inplace)\n",
       "      (relu2): ReLU(inplace)\n",
       "      (shortcut): Conv2d(128, 256, kernel_size=(1, 1), stride=(2, 2), bias=False)\n",
       "      (BNshortcut): BatchNorm2d(256, eps=1e-05, momentum=0.1, affine=True, track_running_stats=True)\n",
       "    )\n",
       "    (5): SimpleBlock(\n",
       "      (C1): Conv2d(256, 256, kernel_size=(3, 3), stride=(1, 1), padding=(1, 1), bias=False)\n",
       "      (BN1): BatchNorm2d(256, eps=1e-05, momentum=0.1, affine=True, track_running_stats=True)\n",
       "      (C2): Conv2d(256, 256, kernel_size=(3, 3), stride=(1, 1), padding=(1, 1), bias=False)\n",
       "      (BN2): BatchNorm2d(256, eps=1e-05, momentum=0.1, affine=True, track_running_stats=True)\n",
       "      (relu1): ReLU(inplace)\n",
       "      (relu2): ReLU(inplace)\n",
       "    )\n",
       "    (6): SimpleBlock(\n",
       "      (C1): Conv2d(256, 512, kernel_size=(3, 3), stride=(2, 2), padding=(1, 1), bias=False)\n",
       "      (BN1): BatchNorm2d(512, eps=1e-05, momentum=0.1, affine=True, track_running_stats=True)\n",
       "      (C2): Conv2d(512, 512, kernel_size=(3, 3), stride=(1, 1), padding=(1, 1), bias=False)\n",
       "      (BN2): BatchNorm2d(512, eps=1e-05, momentum=0.1, affine=True, track_running_stats=True)\n",
       "      (relu1): ReLU(inplace)\n",
       "      (relu2): ReLU(inplace)\n",
       "      (shortcut): Conv2d(256, 512, kernel_size=(1, 1), stride=(2, 2), bias=False)\n",
       "      (BNshortcut): BatchNorm2d(512, eps=1e-05, momentum=0.1, affine=True, track_running_stats=True)\n",
       "    )\n",
       "    (7): SimpleBlock(\n",
       "      (C1): Conv2d(512, 512, kernel_size=(3, 3), stride=(1, 1), padding=(1, 1), bias=False)\n",
       "      (BN1): BatchNorm2d(512, eps=1e-05, momentum=0.1, affine=True, track_running_stats=True)\n",
       "      (C2): Conv2d(512, 512, kernel_size=(3, 3), stride=(1, 1), padding=(1, 1), bias=False)\n",
       "      (BN2): BatchNorm2d(512, eps=1e-05, momentum=0.1, affine=True, track_running_stats=True)\n",
       "      (relu1): ReLU(inplace)\n",
       "      (relu2): ReLU(inplace)\n",
       "    )\n",
       "    (8): AvgPool2d(kernel_size=7, stride=7, padding=0)\n",
       "    (9): Flatten()\n",
       "  )\n",
       ")"
      ]
     },
     "execution_count": 11,
     "metadata": {},
     "output_type": "execute_result"
    }
   ],
   "source": [
    "model35 = ResNet18(flatten = True).to(device, dtype=torch.float)\n",
    "model35.load_state_dict(torch.load(os.path.join(path,models[1]), map_location=device))\n",
    "model35.eval()"
   ]
  },
  {
   "cell_type": "code",
   "execution_count": 12,
   "metadata": {},
   "outputs": [
    {
     "data": {
      "text/plain": [
       "ResNet(\n",
       "  (trunk): Sequential(\n",
       "    (0): SimpleBlock(\n",
       "      (C1): Conv2d(3, 64, kernel_size=(3, 3), stride=(1, 1), padding=(1, 1), bias=False)\n",
       "      (BN1): BatchNorm2d(64, eps=1e-05, momentum=0.1, affine=True, track_running_stats=True)\n",
       "      (C2): Conv2d(64, 64, kernel_size=(3, 3), stride=(1, 1), padding=(1, 1), bias=False)\n",
       "      (BN2): BatchNorm2d(64, eps=1e-05, momentum=0.1, affine=True, track_running_stats=True)\n",
       "      (relu1): ReLU(inplace)\n",
       "      (relu2): ReLU(inplace)\n",
       "      (shortcut): Conv2d(3, 64, kernel_size=(1, 1), stride=(1, 1), bias=False)\n",
       "      (BNshortcut): BatchNorm2d(64, eps=1e-05, momentum=0.1, affine=True, track_running_stats=True)\n",
       "    )\n",
       "    (1): SimpleBlock(\n",
       "      (C1): Conv2d(64, 64, kernel_size=(3, 3), stride=(1, 1), padding=(1, 1), bias=False)\n",
       "      (BN1): BatchNorm2d(64, eps=1e-05, momentum=0.1, affine=True, track_running_stats=True)\n",
       "      (C2): Conv2d(64, 64, kernel_size=(3, 3), stride=(1, 1), padding=(1, 1), bias=False)\n",
       "      (BN2): BatchNorm2d(64, eps=1e-05, momentum=0.1, affine=True, track_running_stats=True)\n",
       "      (relu1): ReLU(inplace)\n",
       "      (relu2): ReLU(inplace)\n",
       "    )\n",
       "    (2): SimpleBlock(\n",
       "      (C1): Conv2d(64, 128, kernel_size=(3, 3), stride=(2, 2), padding=(1, 1), bias=False)\n",
       "      (BN1): BatchNorm2d(128, eps=1e-05, momentum=0.1, affine=True, track_running_stats=True)\n",
       "      (C2): Conv2d(128, 128, kernel_size=(3, 3), stride=(1, 1), padding=(1, 1), bias=False)\n",
       "      (BN2): BatchNorm2d(128, eps=1e-05, momentum=0.1, affine=True, track_running_stats=True)\n",
       "      (relu1): ReLU(inplace)\n",
       "      (relu2): ReLU(inplace)\n",
       "      (shortcut): Conv2d(64, 128, kernel_size=(1, 1), stride=(2, 2), bias=False)\n",
       "      (BNshortcut): BatchNorm2d(128, eps=1e-05, momentum=0.1, affine=True, track_running_stats=True)\n",
       "    )\n",
       "    (3): SimpleBlock(\n",
       "      (C1): Conv2d(128, 128, kernel_size=(3, 3), stride=(1, 1), padding=(1, 1), bias=False)\n",
       "      (BN1): BatchNorm2d(128, eps=1e-05, momentum=0.1, affine=True, track_running_stats=True)\n",
       "      (C2): Conv2d(128, 128, kernel_size=(3, 3), stride=(1, 1), padding=(1, 1), bias=False)\n",
       "      (BN2): BatchNorm2d(128, eps=1e-05, momentum=0.1, affine=True, track_running_stats=True)\n",
       "      (relu1): ReLU(inplace)\n",
       "      (relu2): ReLU(inplace)\n",
       "    )\n",
       "    (4): SimpleBlock(\n",
       "      (C1): Conv2d(128, 256, kernel_size=(3, 3), stride=(2, 2), padding=(1, 1), bias=False)\n",
       "      (BN1): BatchNorm2d(256, eps=1e-05, momentum=0.1, affine=True, track_running_stats=True)\n",
       "      (C2): Conv2d(256, 256, kernel_size=(3, 3), stride=(1, 1), padding=(1, 1), bias=False)\n",
       "      (BN2): BatchNorm2d(256, eps=1e-05, momentum=0.1, affine=True, track_running_stats=True)\n",
       "      (relu1): ReLU(inplace)\n",
       "      (relu2): ReLU(inplace)\n",
       "      (shortcut): Conv2d(128, 256, kernel_size=(1, 1), stride=(2, 2), bias=False)\n",
       "      (BNshortcut): BatchNorm2d(256, eps=1e-05, momentum=0.1, affine=True, track_running_stats=True)\n",
       "    )\n",
       "    (5): SimpleBlock(\n",
       "      (C1): Conv2d(256, 256, kernel_size=(3, 3), stride=(1, 1), padding=(1, 1), bias=False)\n",
       "      (BN1): BatchNorm2d(256, eps=1e-05, momentum=0.1, affine=True, track_running_stats=True)\n",
       "      (C2): Conv2d(256, 256, kernel_size=(3, 3), stride=(1, 1), padding=(1, 1), bias=False)\n",
       "      (BN2): BatchNorm2d(256, eps=1e-05, momentum=0.1, affine=True, track_running_stats=True)\n",
       "      (relu1): ReLU(inplace)\n",
       "      (relu2): ReLU(inplace)\n",
       "    )\n",
       "    (6): SimpleBlock(\n",
       "      (C1): Conv2d(256, 512, kernel_size=(3, 3), stride=(2, 2), padding=(1, 1), bias=False)\n",
       "      (BN1): BatchNorm2d(512, eps=1e-05, momentum=0.1, affine=True, track_running_stats=True)\n",
       "      (C2): Conv2d(512, 512, kernel_size=(3, 3), stride=(1, 1), padding=(1, 1), bias=False)\n",
       "      (BN2): BatchNorm2d(512, eps=1e-05, momentum=0.1, affine=True, track_running_stats=True)\n",
       "      (relu1): ReLU(inplace)\n",
       "      (relu2): ReLU(inplace)\n",
       "      (shortcut): Conv2d(256, 512, kernel_size=(1, 1), stride=(2, 2), bias=False)\n",
       "      (BNshortcut): BatchNorm2d(512, eps=1e-05, momentum=0.1, affine=True, track_running_stats=True)\n",
       "    )\n",
       "    (7): SimpleBlock(\n",
       "      (C1): Conv2d(512, 512, kernel_size=(3, 3), stride=(1, 1), padding=(1, 1), bias=False)\n",
       "      (BN1): BatchNorm2d(512, eps=1e-05, momentum=0.1, affine=True, track_running_stats=True)\n",
       "      (C2): Conv2d(512, 512, kernel_size=(3, 3), stride=(1, 1), padding=(1, 1), bias=False)\n",
       "      (BN2): BatchNorm2d(512, eps=1e-05, momentum=0.1, affine=True, track_running_stats=True)\n",
       "      (relu1): ReLU(inplace)\n",
       "      (relu2): ReLU(inplace)\n",
       "    )\n",
       "    (8): AvgPool2d(kernel_size=7, stride=7, padding=0)\n",
       "    (9): Flatten()\n",
       "  )\n",
       ")"
      ]
     },
     "execution_count": 12,
     "metadata": {},
     "output_type": "execute_result"
    }
   ],
   "source": [
    "model70 = ResNet18(flatten = True).to(device, dtype=torch.float)\n",
    "model70.load_state_dict(torch.load(os.path.join(path,models[0]), map_location=device))\n",
    "model70.eval()"
   ]
  },
  {
   "cell_type": "markdown",
   "metadata": {},
   "source": [
    "## Model"
   ]
  },
  {
   "cell_type": "code",
   "execution_count": 13,
   "metadata": {
    "collapsed": true
   },
   "outputs": [],
   "source": [
    "def proto_net_mahanalobis_final(model,x,y,n_shot,k_way,q_queries,distance,covariance_embedding_dim, embedding_dim, offset, support_first=None):\n",
    "    # Embed all samples\n",
    "    embeddings = model(x)\n",
    "\n",
    "    # Samples are ordered by the NShotWrapper class as follows:\n",
    "    # k lots of n support samples from a particular class\n",
    "    # k lots of q query samples from those classes\n",
    "    if support_first is None:\n",
    "        support_first = embeddings[:n_shot*k_way]\n",
    "    queries = embeddings[n_shot*k_way:]\n",
    "\n",
    "    support, raw_covariance_matrix = torch.split(support_first, [embedding_dim, covariance_embedding_dim], dim=1)\n",
    "    queries, _ = torch.split(queries, [embedding_dim, covariance_embedding_dim], dim=1)\n",
    "    \n",
    "    #calculate inverse covariance matrix with trainable softplus function\n",
    "    #inv_covariance_matrix = simple_calculate_inverse_covariance_matrix(raw_covariance_matrix, offset, True)\n",
    "    inv_covariance_matrix = calculate_inverse_covariance_matrix(raw_covariance_matrix, offset)\n",
    "    \n",
    "    _, S = compute_gaussian_prototypes(support,inv_covariance_matrix, k_way, n_shot, embedding_dim)\n",
    "    prototypes = compute_prototypes(support,k_way, n_shot)\n",
    "    \n",
    "    # Calculate squared distances between all queries and all prototypes\n",
    "    # Output should have shape (q_queries * k_way, k_way) = (num_queries, k_way)\n",
    "    distances = pairwise_distances(queries, prototypes, distance, S)\n",
    "\n",
    "    # Calculate log p_{phi} (y = k | x)\n",
    "    log_p_y = (-distances).log_softmax(dim=1)\n",
    "    \n",
    "    # Prediction probabilities are softmax over distances\n",
    "    y_pred = (-distances).softmax(dim=1)\n",
    "\n",
    "    return distances, y_pred, support_first"
   ]
  },
  {
   "cell_type": "code",
   "execution_count": 14,
   "metadata": {
    "collapsed": true
   },
   "outputs": [],
   "source": [
    "def split_data(split,x,y):\n",
    "    support_x = x[:n_test*k_test]\n",
    "    support_y = y[:n_test*k_test]\n",
    "\n",
    "    queries_x = x[n_test*k_test:]\n",
    "    queries_y = y[:n_test*k_test]\n",
    "\n",
    "    x1 = torch.cat((support_x[:n_test*split], queries_x[:n_test*split]),0)\n",
    "    y1 = torch.cat((support_y[:n_test*split], queries_y[:n_test*split]),0)\n",
    "\n",
    "    x2 = torch.cat((support_x[n_test*split:], queries_x[n_test*split:]),0)\n",
    "    y2 = torch.cat((support_y[n_test*split:], queries_y[n_test*split:]),0)\n",
    "    \n",
    "    return(x1,y1,x2,y2)"
   ]
  },
  {
   "cell_type": "markdown",
   "metadata": {},
   "source": [
    "# Compute distances"
   ]
  },
  {
   "cell_type": "code",
   "execution_count": 16,
   "metadata": {},
   "outputs": [
    {
     "name": "stdout",
     "output_type": "stream",
     "text": [
      "0\n",
      "1\n",
      "2\n",
      "3\n",
      "4\n",
      "5\n",
      "6\n",
      "7\n",
      "8\n",
      "9\n",
      "10\n",
      "11\n",
      "12\n",
      "13\n",
      "14\n",
      "15\n",
      "16\n",
      "17\n",
      "18\n",
      "19\n",
      "20\n",
      "21\n",
      "22\n",
      "23\n",
      "24\n",
      "25\n",
      "26\n",
      "27\n",
      "28\n",
      "29\n",
      "30\n",
      "31\n",
      "32\n",
      "33\n",
      "34\n",
      "35\n",
      "36\n",
      "37\n",
      "38\n",
      "39\n",
      "40\n",
      "41\n",
      "42\n",
      "43\n",
      "44\n",
      "45\n",
      "46\n",
      "47\n",
      "48\n",
      "49\n",
      "50\n",
      "51\n",
      "52\n",
      "53\n",
      "54\n",
      "55\n",
      "56\n",
      "57\n",
      "58\n",
      "59\n",
      "60\n",
      "61\n",
      "62\n",
      "63\n",
      "64\n",
      "65\n",
      "66\n",
      "67\n",
      "68\n",
      "69\n",
      "70\n",
      "71\n",
      "72\n",
      "73\n",
      "74\n",
      "75\n",
      "76\n",
      "77\n",
      "78\n",
      "79\n",
      "80\n",
      "81\n",
      "82\n",
      "83\n",
      "84\n",
      "85\n",
      "86\n",
      "87\n",
      "88\n",
      "89\n",
      "90\n",
      "91\n",
      "92\n",
      "93\n",
      "94\n",
      "95\n",
      "96\n",
      "97\n",
      "98\n",
      "99\n",
      "100\n",
      "101\n",
      "102\n",
      "103\n",
      "104\n",
      "105\n",
      "106\n",
      "107\n",
      "108\n",
      "109\n",
      "110\n",
      "111\n",
      "112\n",
      "113\n",
      "114\n",
      "115\n",
      "116\n",
      "117\n",
      "118\n",
      "119\n",
      "120\n",
      "121\n",
      "122\n",
      "123\n",
      "124\n",
      "125\n",
      "126\n",
      "127\n",
      "128\n",
      "129\n",
      "130\n",
      "131\n",
      "132\n",
      "133\n",
      "134\n",
      "135\n",
      "136\n",
      "137\n",
      "138\n",
      "139\n",
      "140\n",
      "141\n",
      "142\n",
      "143\n",
      "144\n",
      "145\n",
      "146\n",
      "147\n",
      "148\n",
      "149\n",
      "150\n",
      "151\n",
      "152\n",
      "153\n",
      "154\n",
      "155\n",
      "156\n",
      "157\n",
      "158\n",
      "159\n",
      "160\n",
      "161\n",
      "162\n",
      "163\n",
      "164\n",
      "165\n",
      "166\n",
      "167\n",
      "168\n",
      "169\n",
      "170\n",
      "171\n",
      "172\n",
      "173\n",
      "174\n",
      "175\n",
      "176\n",
      "177\n",
      "178\n",
      "179\n",
      "180\n",
      "181\n",
      "182\n",
      "183\n",
      "184\n",
      "185\n",
      "186\n",
      "187\n",
      "188\n",
      "189\n",
      "190\n",
      "191\n",
      "192\n",
      "193\n",
      "194\n",
      "195\n",
      "196\n",
      "197\n",
      "198\n",
      "199\n",
      "200\n",
      "201\n",
      "202\n",
      "203\n",
      "204\n",
      "205\n",
      "206\n",
      "207\n",
      "208\n",
      "209\n",
      "210\n",
      "211\n",
      "212\n",
      "213\n",
      "214\n",
      "215\n",
      "216\n",
      "217\n",
      "218\n",
      "219\n",
      "220\n",
      "221\n",
      "222\n",
      "223\n",
      "224\n",
      "225\n",
      "226\n",
      "227\n",
      "228\n",
      "229\n",
      "230\n",
      "231\n",
      "232\n",
      "233\n",
      "234\n",
      "235\n",
      "236\n",
      "237\n",
      "238\n",
      "239\n",
      "240\n",
      "241\n",
      "242\n",
      "243\n",
      "244\n",
      "245\n",
      "246\n",
      "247\n",
      "248\n",
      "249\n"
     ]
    }
   ],
   "source": [
    "dist_accept35 = np.array([])\n",
    "dist_rej35 = np.array([])\n",
    "dist_accept70 = np.array([])\n",
    "dist_rej70 = np.array([])\n",
    "\n",
    "pred_accept = np.array([])\n",
    "pred_rej = np.array([])\n",
    "\n",
    "for i in range(250):\n",
    "    print(i)\n",
    "    for batch_index, batch in enumerate(evaluation_taskloader):\n",
    "        with torch.no_grad():\n",
    "        \n",
    "            x,y = batch\n",
    "        \n",
    "            x1, y1, x2, y2 = split_data(35,x,y)\n",
    "        \n",
    "            x, y = prepare_nshot_task((x1,y1), k_test2, n_test)\n",
    "        \n",
    "            y = y.to(device)\n",
    "            x = x.to(device, dtype=torch.float)\n",
    "            \n",
    "            #model35\n",
    "            distances, y_pred, support_first1 = proto_net_mahanalobis_final(model35,x,y,n_test,k_test2,q_test,distance,covariance_embedding_dim, embedding_dim, offset)\n",
    "            \n",
    "            outcomes = torch.eq(distances.argmin(dim=-1), y)\n",
    "            distances_new = distances[outcomes]\n",
    "            dist_accept35 = np.concatenate([dist_accept35, torch.min(distances_new, dim=1)[0].cpu().data.numpy()])\n",
    "                    \n",
    "            #model70\n",
    "            distances, y_pred, support_first2 = proto_net_mahanalobis_final(model70,x,y,n_test,k_test2,q_test,distance,covariance_embedding_dim, embedding_dim, offset)\n",
    "            \n",
    "            outcomes = torch.eq(distances.argmin(dim=-1), y)\n",
    "            distances_new = distances[outcomes]\n",
    "            dist_accept70 = np.concatenate([dist_accept70, torch.min(distances_new, dim=1)[0].cpu().data.numpy()])\n",
    "\n",
    "            x, y = prepare_nshot_task((x2,y2), k_test2, n_test)\n",
    "            x = x.to(device, dtype=torch.float)\n",
    "            \n",
    "            #model35\n",
    "            distances_rej, y_pred_rej, _ = proto_net_mahanalobis_final(model35,x,y,n_test,k_test2,q_test,distance,covariance_embedding_dim, embedding_dim, offset, support_first1)\n",
    "            dist_rej35 = np.concatenate([dist_rej35, torch.min(distances_rej, dim=1)[0].cpu().data.numpy()])\n",
    "            \n",
    "            #model70\n",
    "            distances_rej, y_pred_rej, _ = proto_net_mahanalobis_final(model70,x,y,n_test,k_test2,q_test,distance,covariance_embedding_dim, embedding_dim, offset, support_first2)\n",
    "            dist_rej70 = np.concatenate([dist_rej70, torch.min(distances_rej, dim=1)[0].cpu().data.numpy()])"
   ]
  },
  {
   "cell_type": "markdown",
   "metadata": {},
   "source": [
    "## Calculate acceptance/rejection rate numbers"
   ]
  },
  {
   "cell_type": "code",
   "execution_count": 17,
   "metadata": {
    "collapsed": true
   },
   "outputs": [],
   "source": [
    "def metric_maker(data, threshold, dist=True):\n",
    "    if dist:\n",
    "        return(len(data[data<threshold])/len(data))\n",
    "    else:\n",
    "        return(len(data[data>=threshold])/len(data))"
   ]
  },
  {
   "cell_type": "code",
   "execution_count": 18,
   "metadata": {
    "collapsed": true
   },
   "outputs": [],
   "source": [
    "numbering = np.arange(14, 38, 0.25)"
   ]
  },
  {
   "cell_type": "code",
   "execution_count": 19,
   "metadata": {
    "collapsed": true
   },
   "outputs": [],
   "source": [
    "aa = [metric_maker(dist_accept35, i) for i in numbering]\n",
    "bb = [metric_maker(dist_rej35, i) for i in numbering]"
   ]
  },
  {
   "cell_type": "code",
   "execution_count": 20,
   "metadata": {
    "collapsed": true
   },
   "outputs": [],
   "source": [
    "cc = [metric_maker(dist_accept70, i) for i in numbering]\n",
    "dd = [metric_maker(dist_rej70, i) for i in numbering]"
   ]
  },
  {
   "cell_type": "markdown",
   "metadata": {},
   "source": [
    "## Plot that shows false acceptance versus true acceptance rate"
   ]
  },
  {
   "cell_type": "code",
   "execution_count": 21,
   "metadata": {
    "collapsed": true
   },
   "outputs": [],
   "source": [
    "import matplotlib.pyplot as plt\n",
    "%matplotlib inline"
   ]
  },
  {
   "cell_type": "markdown",
   "metadata": {},
   "source": [
    "- red is distance metric\n",
    "- blue is probability metric\n",
    "- green is from reptile model"
   ]
  },
  {
   "cell_type": "code",
   "execution_count": 24,
   "metadata": {},
   "outputs": [
    {
     "data": {
      "image/png": "[encoded data removed]",
      "text/plain": [
       "<Figure size 432x288 with 1 Axes>"
      ]
     },
     "metadata": {},
     "output_type": "display_data"
    }
   ],
   "source": [
    "plt.plot(bb, aa, 'g', label='35-way')\n",
    "plt.plot(dd, cc, 'b', label='70-way')\n",
    "plt.axis([0, 1, 0, 1])\n",
    "plt.title('ROC plot of \\n Mahalanobis prototypical networks')\n",
    "plt.xlabel('FPR')\n",
    "plt.ylabel('TPR')\n",
    "plt.legend()\n",
    "plt.gca().set_aspect('equal', adjustable='box')\n",
    "#plt.savefig('ROC_resnet_val_distance_new.jpg', dpi=1000)\n",
    "plt.show()"
   ]
  },
  {
   "cell_type": "markdown",
   "metadata": {
    "collapsed": true
   },
   "source": [
    "# Comparison"
   ]
  },
  {
   "cell_type": "code",
   "execution_count": 15,
   "metadata": {
    "collapsed": true
   },
   "outputs": [],
   "source": [
    "k = [5,20,35,50,65,80,95]"
   ]
  },
  {
   "cell_type": "code",
   "execution_count": 16,
   "metadata": {
    "collapsed": true
   },
   "outputs": [],
   "source": [
    "def create_dataloader(evaluation_episodes, n_test, k_test, q_test):\n",
    "    evaluation = dataset_class('evaluation')\n",
    "    evaluation_taskloader = DataLoader(\n",
    "        evaluation,\n",
    "        batch_sampler=NShotTaskSampler(evaluation, evaluation_episodes, n_test, k_test, q_test),\n",
    "        num_workers=4\n",
    "    )\n",
    "    return(evaluation_taskloader)"
   ]
  },
  {
   "cell_type": "code",
   "execution_count": 17,
   "metadata": {
    "collapsed": true
   },
   "outputs": [],
   "source": [
    "def categorical_accuracy(y, y_pred):\n",
    "    return torch.eq(y_pred.argmax(dim=-1), y).sum().item() / y_pred.shape[0]"
   ]
  },
  {
   "cell_type": "code",
   "execution_count": 18,
   "metadata": {
    "collapsed": true
   },
   "outputs": [],
   "source": [
    "def get_accuracies(model, tasks, runs):\n",
    "    pred = np.array([])\n",
    "    std_v = np.array([])\n",
    "    k_test = 5\n",
    "    q_test = 5\n",
    "\n",
    "    for i,num in enumerate(tasks):\n",
    "        dataloader = create_dataloader(runs, 5, num, 5)\n",
    "        print(i)\n",
    "    \n",
    "        final_test_accuracy = []\n",
    "        for batch in dataloader:\n",
    "            with torch.no_grad():\n",
    "                x, y = prepare_nshot_task(batch, num, q_test)\n",
    "                \n",
    "                x = x.to(device, dtype=torch.float)\n",
    "                y = y.to(device)\n",
    "                \n",
    "                    \n",
    "                distances, y_pred, _ = proto_net_mahanalobis_final(model,x,y,n_test,num,q_test,distance,covariance_embedding_dim, embedding_dim, offset)\n",
    "                test_acc = categorical_accuracy(y, y_pred)\n",
    "                final_test_accuracy.append(test_acc)\n",
    "        \n",
    "        metaval_accuracies = np.array(final_test_accuracy)\n",
    "        means = np.mean(metaval_accuracies, 0, keepdims=True)\n",
    "        stds = np.std(metaval_accuracies, 0, keepdims=True)\n",
    "        ci95 = 1.96*stds/np.sqrt(runs)\n",
    "        \n",
    "        pred = np.concatenate([pred,means])\n",
    "        std_v = np.concatenate([std_v,ci95])\n",
    "        \n",
    "    return(pred,std_v)"
   ]
  },
  {
   "cell_type": "code",
   "execution_count": 19,
   "metadata": {
    "scrolled": true
   },
   "outputs": [
    {
     "name": "stderr",
     "output_type": "stream",
     "text": [
      "5219it [00:00, 203427.99it/s]"
     ]
    },
    {
     "name": "stdout",
     "output_type": "stream",
     "text": [
      "Indexing evaluation...\n",
      "0\n"
     ]
    },
    {
     "name": "stderr",
     "output_type": "stream",
     "text": [
      "\n",
      "5219it [00:00, 45971.90it/s]"
     ]
    },
    {
     "name": "stdout",
     "output_type": "stream",
     "text": [
      "Indexing evaluation...\n",
      "1\n"
     ]
    },
    {
     "name": "stderr",
     "output_type": "stream",
     "text": [
      "\n",
      "5219it [00:00, 199931.25it/s]"
     ]
    },
    {
     "name": "stdout",
     "output_type": "stream",
     "text": [
      "Indexing evaluation...\n",
      "2\n"
     ]
    },
    {
     "name": "stderr",
     "output_type": "stream",
     "text": [
      "\n",
      "5219it [00:00, 207957.98it/s]"
     ]
    },
    {
     "name": "stdout",
     "output_type": "stream",
     "text": [
      "Indexing evaluation...\n",
      "3\n"
     ]
    },
    {
     "name": "stderr",
     "output_type": "stream",
     "text": [
      "\n",
      "5219it [00:00, 200013.46it/s]"
     ]
    },
    {
     "name": "stdout",
     "output_type": "stream",
     "text": [
      "Indexing evaluation...\n",
      "4\n"
     ]
    },
    {
     "name": "stderr",
     "output_type": "stream",
     "text": [
      "\n",
      "5219it [00:00, 203649.42it/s]"
     ]
    },
    {
     "name": "stdout",
     "output_type": "stream",
     "text": [
      "Indexing evaluation...\n",
      "5\n"
     ]
    },
    {
     "name": "stderr",
     "output_type": "stream",
     "text": [
      "\n",
      "5219it [00:00, 203801.10it/s]"
     ]
    },
    {
     "name": "stdout",
     "output_type": "stream",
     "text": [
      "Indexing evaluation...\n",
      "6\n"
     ]
    },
    {
     "name": "stderr",
     "output_type": "stream",
     "text": [
      "\n",
      "5219it [00:00, 215319.95it/s]"
     ]
    },
    {
     "name": "stdout",
     "output_type": "stream",
     "text": [
      "Indexing evaluation...\n",
      "0\n"
     ]
    },
    {
     "name": "stderr",
     "output_type": "stream",
     "text": [
      "\n",
      "5219it [00:00, 197590.58it/s]"
     ]
    },
    {
     "name": "stdout",
     "output_type": "stream",
     "text": [
      "Indexing evaluation...\n",
      "1\n"
     ]
    },
    {
     "name": "stderr",
     "output_type": "stream",
     "text": [
      "\n",
      "5219it [00:00, 209214.11it/s]"
     ]
    },
    {
     "name": "stdout",
     "output_type": "stream",
     "text": [
      "Indexing evaluation...\n",
      "2\n"
     ]
    },
    {
     "name": "stderr",
     "output_type": "stream",
     "text": [
      "\n",
      "5219it [00:00, 202070.29it/s]"
     ]
    },
    {
     "name": "stdout",
     "output_type": "stream",
     "text": [
      "Indexing evaluation...\n",
      "3\n"
     ]
    },
    {
     "name": "stderr",
     "output_type": "stream",
     "text": [
      "\n",
      "5219it [00:00, 203320.29it/s]"
     ]
    },
    {
     "name": "stdout",
     "output_type": "stream",
     "text": [
      "Indexing evaluation...\n",
      "4\n"
     ]
    },
    {
     "name": "stderr",
     "output_type": "stream",
     "text": [
      "\n",
      "5219it [00:00, 205921.49it/s]"
     ]
    },
    {
     "name": "stdout",
     "output_type": "stream",
     "text": [
      "Indexing evaluation...\n",
      "5\n"
     ]
    },
    {
     "name": "stderr",
     "output_type": "stream",
     "text": [
      "\n",
      "5219it [00:00, 199586.72it/s]"
     ]
    },
    {
     "name": "stdout",
     "output_type": "stream",
     "text": [
      "Indexing evaluation...\n",
      "6\n"
     ]
    },
    {
     "name": "stderr",
     "output_type": "stream",
     "text": [
      "\n"
     ]
    }
   ],
   "source": [
    "pred35, stds35 = get_accuracies(model35, k, 200)\n",
    "pred70, stds70 = get_accuracies(model70, k, 200)"
   ]
  },
  {
   "cell_type": "code",
   "execution_count": 26,
   "metadata": {},
   "outputs": [
    {
     "data": {
      "image/png": "[encoded data removed]",
      "text/plain": [
       "<Figure size 432x288 with 1 Axes>"
      ]
     },
     "metadata": {},
     "output_type": "display_data"
    }
   ],
   "source": [
    "plt.plot(k, pred35*100, 'g', label='35-way train')\n",
    "plt.plot(k, pred70*100, 'b', label='70-way train')\n",
    "plt.title('Performance plot of both 35- and 70-way \\n trained models')\n",
    "plt.xlabel('#-way on test set')\n",
    "plt.ylabel('Accuracy')\n",
    "plt.legend()\n",
    "plt.savefig('Accuracy_vs_high_way.jpg', dpi=1000)\n",
    "plt.show()"
   ]
  },
  {
   "cell_type": "code",
   "execution_count": null,
   "metadata": {
    "collapsed": true
   },
   "outputs": [],
   "source": []
  }
 ],
 "metadata": {
  "kernelspec": {
   "display_name": "Python [default]",
   "language": "python",
   "name": "python3"
  },
  "language_info": {
   "codemirror_mode": {
    "name": "ipython",
    "version": 3
   },
   "file_extension": ".py",
   "mimetype": "text/x-python",
   "name": "python",
   "nbconvert_exporter": "python",
   "pygments_lexer": "ipython3",
   "version": "3.6.8"
  }
 },
 "nbformat": 4,
 "nbformat_minor": 2
}
